{
  "nbformat": 4,
  "nbformat_minor": 0,
  "metadata": {
    "colab": {
      "name": "Satellite_image_classification.ipynb",
      "version": "0.3.2",
      "provenance": [],
      "collapsed_sections": [],
      "include_colab_link": true
    },
    "kernelspec": {
      "name": "python3",
      "display_name": "Python 3"
    },
    "accelerator": "GPU"
  },
  "cells": [
    {
      "cell_type": "markdown",
      "metadata": {
        "id": "view-in-github",
        "colab_type": "text"
      },
      "source": [
        "<a href=\"https://colab.research.google.com/github/Aayushktyagi/Satellite_image_classification/blob/master/Satellite_image_classification.ipynb\" target=\"_parent\"><img src=\"https://colab.research.google.com/assets/colab-badge.svg\" alt=\"Open In Colab\"/></a>"
      ]
    },
    {
      "cell_type": "code",
      "metadata": {
        "id": "7JR0YcYWjdh0",
        "colab_type": "code",
        "outputId": "9abf5f6c-e47e-470e-9d80-a10fbde39767",
        "colab": {
          "base_uri": "https://localhost:8080/",
          "height": 34
        }
      },
      "source": [
        "from google.colab import drive\n",
        "drive.mount('/content/drive')"
      ],
      "execution_count": 1,
      "outputs": [
        {
          "output_type": "stream",
          "text": [
            "Drive already mounted at /content/drive; to attempt to forcibly remount, call drive.mount(\"/content/drive\", force_remount=True).\n"
          ],
          "name": "stdout"
        }
      ]
    },
    {
      "cell_type": "code",
      "metadata": {
        "id": "N7XCBEp8bguR",
        "colab_type": "code",
        "colab": {}
      },
      "source": [
        "import parser\n",
        "import os\n",
        "import sys\n",
        "import argparse\n",
        "import numpy as np"
      ],
      "execution_count": 0,
      "outputs": []
    },
    {
      "cell_type": "code",
      "metadata": {
        "id": "N2XG8XOIcZiQ",
        "colab_type": "code",
        "colab": {}
      },
      "source": [
        "'''\n",
        "load dataset\n",
        "split dataset into train and test set\n",
        "'''\n",
        "import os\n",
        "import numpy as np\n",
        "import scipy.io as sio\n",
        "import matplotlib.pyplot as plt\n",
        "\n",
        "\n",
        "class Preprosess(object):\n",
        "    def __init__(self,datapath):\n",
        "        self.datapath = datapath\n",
        "\n",
        "    def load_dataset(self):\n",
        "        self.data = sio.loadmat(self.datapath)\n",
        "        self.X_train = self.data['train_x'].transpose()\n",
        "        self.Y_train = self.data['train_y'].transpose()\n",
        "        self.X_test = self.data['test_x'].transpose()\n",
        "        self.Y_test = self.data['test_y'].transpose()\n",
        "        self.annotation = self.data['annotations']\n",
        "\n",
        "        self.X_train = self.X_train.reshape(self.X_train.shape[0] , 28, 28, 4)\n",
        "        self.X_test = self.X_test.reshape(self.X_test.shape[0] , 28, 28, 4)\n",
        "        #Normalizing data\n",
        "        self.X_train = self.X_train[:100000] / 255.0\n",
        "        self.Y_train = self.Y_train[:100000]\n",
        "        self.X_test = self.X_test /255.0\n",
        "        return self.X_train,self.Y_train,self.X_test,self.Y_test\n",
        "\n",
        "    def visualize_data(self):\n",
        "        if os.path.splitext(os.path.basename(self.datapath))[0] =='sat-4-full':\n",
        "            labels = ['barren land' , 'trees' , 'grassland','others']\n",
        "        else:\n",
        "            labels =['building','barren land','trees','grassland','roads','water']\n",
        "        per_class_counts_train = np.sum(self.Y_train,axis = 0)\n",
        "        per_class_counts_test = np.sum(self.Y_test ,axis = 0)\n",
        "        index = np.arange(len(per_class_counts_train))\n",
        "        plt.bar(index,per_class_counts_train)\n",
        "        plt.xlabel(\"Labels\",fontsize = 10)\n",
        "        plt.ylabel(\"Count\" , fontsize = 10)\n",
        "        plt.xticks(index , labels , fontsize=10,rotation = 30)\n",
        "        plt.title(\"Class wise distribution for train data\")\n",
        "        plt.show()\n",
        "\n",
        "        #For test data\n",
        "        index = np.arange(len(per_class_counts_test))\n",
        "        plt.bar(index,per_class_counts_test)\n",
        "        plt.xlabel(\"Labels\",fontsize = 10)\n",
        "        plt.ylabel(\"Count\" , fontsize = 10)\n",
        "        plt.xticks(index , labels , fontsize=10,rotation = 30)\n",
        "        plt.title(\"Class wise distribution for test data\")\n",
        "        plt.show()\n"
      ],
      "execution_count": 0,
      "outputs": []
    },
    {
      "cell_type": "code",
      "metadata": {
        "id": "Lgn5dXgacWWV",
        "colab_type": "code",
        "colab": {}
      },
      "source": [
        "'''\n",
        "convolutional neural network\n",
        "'''\n",
        "import os\n",
        "import tensorflow as tf\n",
        "from tensorflow.keras.callbacks import Callback\n",
        "from tensorflow.keras.models import Model\n",
        "from tensorflow.keras.layers import Input , Dense,Conv2D,MaxPooling2D,Dropout,Flatten\n",
        "import matplotlib.pyplot as plt\n",
        "\n",
        "\n",
        "class ConvNet(object):\n",
        "    def __init__(self):\n",
        "        input_layer = Input(shape=(28,28,4))\n",
        "        layer_1 = Conv2D(8,(2,2),activation = 'relu',padding = 'same')(input_layer)\n",
        "        layer_1 = MaxPooling2D((2,2),padding ='same')(layer_1)\n",
        "        #layer_1 = Dropout(0.3)(layer_1)\n",
        "        layer_2 = Conv2D(16,(2,2),activation = 'relu',padding = 'same')(layer_1)\n",
        "        layer_2 = MaxPooling2D((2,2),padding = 'same')(layer_2)\n",
        "        #layer_2 = Dropout(0.3)(layer_2)\n",
        "        layer_3 = Conv2D(32,(2,2),activation = 'relu',padding= 'same')(layer_2)\n",
        "        layer_3 = MaxPooling2D((2,2),padding = 'same')(layer_3)\n",
        "        #layer_3 = Dropout(0.3)(layer_3)\n",
        "        layer_flatten = Flatten()(layer_3)\n",
        "        layer_4 = Dense(784, activation ='relu')(layer_flatten)\n",
        "        layer_4 = Dropout(0.3)(layer_4)\n",
        "        output_layer = Dense(4,activation='softmax')(layer_4)\n",
        "\n",
        "        self._model = Model(input_layer,output_layer)\n",
        "        self._model.compile(optimizer = 'adam' , loss = 'categorical_crossentropy',metrics = ['accuracy'])\n",
        "        self._model.summary()\n",
        "\n",
        "    def train(self, X_train,Y_train,X_test,Y_test,batchsize,epochs,checkpoint_path):\n",
        "\n",
        "        checkpoint_dir = os.path.dirname(checkpoint_path)\n",
        "        \n",
        "        # Create checkpoint callback\n",
        "        checkpoint_path = checkpoint_path + \"cp.ckpt\"\n",
        "        print(\"checkpoint\",checkpoint_path)\n",
        "        cp_callback = tf.keras.callbacks.ModelCheckpoint(checkpoint_path,\n",
        "                                            save_weights_only=True,\n",
        "                                            verbose=1,period=1)\n",
        "        \n",
        "        self._model.fit(X_train,Y_train,\n",
        "                        batch_size = batchsize,\n",
        "                        epochs = epochs,\n",
        "                        validation_data = (X_test,\n",
        "                                            Y_test),\n",
        "                        callbacks = [cp_callback])\n",
        "        \n",
        "        return self._model\n",
        "      \n",
        "    def showloss(self):\n",
        "        # loss plot\n",
        "        plt.subplots(figsize=(15,10))\n",
        "        plt.subplot(2,1,1)\n",
        "        plt.plot(self._model.history.history['loss'])\n",
        "        plt.plot(self._model.history.history['val_loss'])\n",
        "        plt.title('Model loss')\n",
        "        plt.xlabel('epochs')\n",
        "        plt.ylabel('loss')\n",
        "        plt.legend(['Train','Validation'],loc = 'upper left')\n",
        "\n",
        "        #accuracy plot\n",
        "        plt.subplot(2,1,2)\n",
        "        plt.plot(self._model.history.history['acc'])\n",
        "        plt.plot(self._model.history.history['val_acc'])\n",
        "        plt.title('Accuracy')\n",
        "        plt.xlabel('epochs')\n",
        "        plt.ylabel('accuracy')\n",
        "        plt.legend(['Train','Validation'] , loc = 'upper left')\n",
        "        plt.show()\n"
      ],
      "execution_count": 0,
      "outputs": []
    },
    {
      "cell_type": "code",
      "metadata": {
        "id": "6nPa8zilcMCR",
        "colab_type": "code",
        "colab": {}
      },
      "source": [
        "'''\n",
        "train different models\n",
        "\n",
        "'''\n",
        "import numpy as np\n",
        "import os\n",
        "import tensorflow as tf\n",
        "from tensorflow.keras.callbacks import Callback\n",
        "from tensorflow.keras.models import Model , load_model\n",
        "from tensorflow.keras.backend import clear_session\n",
        "from tensorflow.keras.layers import Dense ,Conv2D , Input,Flatten,Dropout\n",
        "from tensorflow.keras.applications import ResNet50,MobileNet,Xception , DenseNet121\n",
        "#from ConvNet import ConvNet\n",
        "\n",
        "def train_model(X_train,Y_train,X_test,Y_test,mode,epochs,batch_size,model_name = None,checkpoint_path=None , model_path = None,):\n",
        "    clear_session()\n",
        "    # mode = agrs.mode\n",
        "    # model_name = args.model_name\n",
        "    if mode == 'train':\n",
        "        if model_name == 'ConvNet':\n",
        "            print(\"Choosen model ConvNet\")\n",
        "            Convnet = ConvNet()\n",
        "            model = Convnet.train(X_train,Y_train,X_test,Y_test,batch_size,epochs,checkpoint_path)\n",
        "#             model.summary()\n",
        "            Convnet.showloss()\n",
        "            return model\n",
        "\n",
        "        else:\n",
        "          raise ValueError(\"Select Correct model\")\n"
      ],
      "execution_count": 0,
      "outputs": []
    },
    {
      "cell_type": "code",
      "metadata": {
        "id": "_H9Xo459cF8W",
        "colab_type": "code",
        "outputId": "9b86ebf7-05d2-4291-8204-45dc027a9df6",
        "colab": {
          "base_uri": "https://localhost:8080/",
          "height": 1084
        }
      },
      "source": [
        "import matplotlib.pyplot as plt\n",
        "import matplotlib.image as mpimg\n",
        "from sklearn.metrics import confusion_matrix\n",
        "from sklearn.metrics import accuracy_score\n",
        "from sklearn.metrics import classification_report\n",
        "import seaborn as sn\n",
        "import pandas as pd\n",
        "\n",
        "def process(args):\n",
        "    Prep = Preprosess(args.datapath)\n",
        "    #load dataset\n",
        "    X_train , Y_train , X_test , Y_test = Prep.load_dataset()\n",
        "    print(\"Dataset : Train:{}:{},Test:{}:{}\".format(np.shape(X_train),np.shape(Y_train),np.shape(X_test),np.shape(Y_test)))\n",
        "    if args.visualize_data == 'True':\n",
        "        Prep.visualize_data()\n",
        "    model = train_model(X_train,Y_train,X_test,Y_test,args.mode,args.epochs,args.batch_size,args.model_name,args.output)\n",
        "    #save model \n",
        "    model.save(args.output + 'Sat_classification.h5')\n",
        "\n",
        "    #load model \n",
        "    model = tf.keras.models.load_model(args.output+'Sat_classification.h5')\n",
        "    latest = tf.train.latest_checkpoint(args.output)\n",
        "    model.load_weights(latest)\n",
        "    #calculate accuracy \n",
        "    #Test image\n",
        "    test_images = X_test[50]\n",
        "    test_labels = Y_test[50]\n",
        "    loss , acc = model.evaluate(X_test , Y_test)\n",
        "    print(\"Restored model, accuracy: {:5.2f}%\".format(100*acc))\n",
        "    \n",
        "    #Prediction\n",
        "    categories = ['barren_land','trees','grassland','none']\n",
        "    #show test images \n",
        "    #img=mpimg.imread('your_image.png')\n",
        "    imgplot = plt.imshow(test_images)\n",
        "    plt.show()\n",
        "    test_images = test_images.reshape(1,28,28,4)\n",
        "    predictions = np.round(model.predict(test_images))[0]\n",
        "    print(\"predictions:{}: True label:{}\".format(predictions,test_labels))\n",
        "    labels = [categories[idx] for idx, current_prediction in enumerate(predictions) if current_prediction == 1]\n",
        "    print(labels)\n",
        "    \n",
        "    #confusion metrics\n",
        "    predictions = model.predict(X_test)\n",
        "    predict_index = predictions.argmax(axis=1)\n",
        "    test_index = Y_test.argmax(axis=1)\n",
        "    results = confusion_matrix(test_index,predict_index)\n",
        "    print(results)\n",
        "    df_cm = pd.DataFrame(results, index = [i for i in categories],\n",
        "                  columns = [i for i in categories])\n",
        "    plt.figure(figsize = (10,7))\n",
        "    sn.heatmap(df_cm, annot=True)\n",
        "    \n",
        "    #Classification accuracy\n",
        "    accuracy = accuracy_score(test_index,predict_index)\n",
        "#     print(\"Classification accuracy\")\n",
        "    print()\n",
        "    print(accuracy)\n",
        "    \n",
        "    #Classification report \n",
        "    classify_report = classification_report(test_index,predict_index)\n",
        "    print(\"Classification report\")\n",
        "    print(classify_report)\n",
        "    \n",
        "    \n",
        "if __name__ == \"__main__\":\n",
        "    parser = argparse.ArgumentParser()\n",
        "    parser.add_argument('--datapath',help = 'Path to .mat files',default = 'drive/My Drive/Dataset/Satellite_images/sat-4-full.mat')\n",
        "    parser.add_argument('--epochs',help = 'Number of epochs',type = int , default = 15)\n",
        "    parser.add_argument('--visualize_data', help = 'set true to visualize data',default=False)\n",
        "    parser.add_argument('--mode' , choices = ['train','inference'],default = 'train')\n",
        "    parser.add_argument('--output' , help= 'path checkpoints will be saved',default='./weights/')\n",
        "    parser.add_argument('--model_name',choices=['ConvNet','ResNet50','Xception','MobileNet','DenseNet121'],default='ConvNet')\n",
        "    parser.add_argument('--batch_size',help = 'Select batch size int value',type= int,default=16)\n",
        "    args = parser.parse_args(args=[])\n",
        "    process(args)\n",
        "    \n"
      ],
      "execution_count": 9,
      "outputs": [
        {
          "output_type": "stream",
          "text": [
            "Dataset : Train:(100000, 28, 28, 4):(100000, 4),Test:(100000, 28, 28, 4):(100000, 4)\n",
            "100000/100000 [==============================] - 10s 100us/sample - loss: 0.0414 - acc: 0.9873\n",
            "Restored model, accuracy: 98.73%\n"
          ],
          "name": "stdout"
        },
        {
          "output_type": "display_data",
          "data": {
            "image/png": "[encoded data removed]",
            "text/plain": [
              "<Figure size 432x288 with 1 Axes>"
            ]
          },
          "metadata": {
            "tags": []
          }
        },
        {
          "output_type": "stream",
          "text": [
            "predictions:[0. 1. 0. 0.]: True label:[0 1 0 0]\n",
            "['trees']\n",
            "[[25748     1   329   111]\n",
            " [    3 20065    66    97]\n",
            " [  312    71 17480    83]\n",
            " [  128    49    22 35435]]\n",
            "\n",
            "0.98728\n",
            "Classification report\n",
            "              precision    recall  f1-score   support\n",
            "\n",
            "           0       0.98      0.98      0.98     26189\n",
            "           1       0.99      0.99      0.99     20231\n",
            "           2       0.98      0.97      0.98     17946\n",
            "           3       0.99      0.99      0.99     35634\n",
            "\n",
            "   micro avg       0.99      0.99      0.99    100000\n",
            "   macro avg       0.99      0.99      0.99    100000\n",
            "weighted avg       0.99      0.99      0.99    100000\n",
            "\n"
          ],
          "name": "stdout"
        },
        {
          "output_type": "display_data",
          "data": {
            "image/png": "[encoded data removed]",
            "text/plain": [
              "<Figure size 720x504 with 2 Axes>"
            ]
          },
          "metadata": {
            "tags": []
          }
        }
      ]
    }
  ]
}